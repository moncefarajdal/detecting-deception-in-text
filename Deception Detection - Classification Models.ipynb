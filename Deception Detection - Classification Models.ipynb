{
  "cells": [
    {
      "cell_type": "code",
      "execution_count": 1,
      "metadata": {
        "id": "Zy_G9JXJHUq9"
      },
      "outputs": [],
      "source": [
        "import numpy as np  # NumPy for numerical operations\n",
        "import pandas as pd  # Pandas for data manipulation\n",
        "import re  # Regular expressions for text processing\n",
        "import nltk  # NLTK for natural language processing\n",
        "from nltk.corpus import stopwords  # Stopwords for text preprocessing\n",
        "from nltk.stem.porter import PorterStemmer  # Porter Stemmer for stemming\n",
        "from sklearn.feature_extraction.text import TfidfVectorizer  # TF-IDF vectorization\n",
        "from sklearn.model_selection import train_test_split  # Splitting the dataset\n",
        "from sklearn.linear_model import LogisticRegression  # Logistic Regression model\n",
        "from sklearn.naive_bayes import MultinomialNB\n",
        "from sklearn.metrics import accuracy_score  # Accuracy score metric\n",
        "from nltk.stem.porter import PorterStemmer  # Porter Stemmer for text preprocessing\n",
        "from sklearn.metrics import confusion_matrix  # Confusion matrix for evaluation\n",
        "from sklearn.linear_model import PassiveAggressiveClassifier\n",
        "from sklearn.metrics import classification_report  # Classification report for evaluation\n",
        "#nltk.download('punkt')"
      ]
    },
    {
      "cell_type": "code",
      "execution_count": 2,
      "metadata": {
        "id": "cjuH5LsnH5X7"
      },
      "outputs": [],
      "source": [
        " # Spécifiez le chemin du fichier sur Google Drive\n",
        "file_path = 'train.csv'\n",
        "# Chargez le fichier CSV dans un DataFrame\n",
        "dataset = pd.read_csv(file_path)\n"
      ]
    },
    {
      "cell_type": "code",
      "execution_count": 3,
      "metadata": {
        "colab": {
          "base_uri": "https://localhost:8080/",
          "height": 206
        },
        "id": "bd7FrieLIjWq",
        "outputId": "63de81ff-f95c-4387-d2bb-f4c05abe26ee"
      },
      "outputs": [
        {
          "data": {
            "text/html": [
              "<div>\n",
              "<style scoped>\n",
              "    .dataframe tbody tr th:only-of-type {\n",
              "        vertical-align: middle;\n",
              "    }\n",
              "\n",
              "    .dataframe tbody tr th {\n",
              "        vertical-align: top;\n",
              "    }\n",
              "\n",
              "    .dataframe thead th {\n",
              "        text-align: right;\n",
              "    }\n",
              "</style>\n",
              "<table border=\"1\" class=\"dataframe\">\n",
              "  <thead>\n",
              "    <tr style=\"text-align: right;\">\n",
              "      <th></th>\n",
              "      <th>id</th>\n",
              "      <th>title</th>\n",
              "      <th>author</th>\n",
              "      <th>text</th>\n",
              "      <th>label</th>\n",
              "    </tr>\n",
              "  </thead>\n",
              "  <tbody>\n",
              "    <tr>\n",
              "      <th>0</th>\n",
              "      <td>0</td>\n",
              "      <td>House Dem Aide: We Didn’t Even See Comey’s Let...</td>\n",
              "      <td>Darrell Lucus</td>\n",
              "      <td>House Dem Aide: We Didn’t Even See Comey’s Let...</td>\n",
              "      <td>1</td>\n",
              "    </tr>\n",
              "    <tr>\n",
              "      <th>1</th>\n",
              "      <td>1</td>\n",
              "      <td>FLYNN: Hillary Clinton, Big Woman on Campus - ...</td>\n",
              "      <td>Daniel J. Flynn</td>\n",
              "      <td>Ever get the feeling your life circles the rou...</td>\n",
              "      <td>0</td>\n",
              "    </tr>\n",
              "    <tr>\n",
              "      <th>2</th>\n",
              "      <td>2</td>\n",
              "      <td>Why the Truth Might Get You Fired</td>\n",
              "      <td>Consortiumnews.com</td>\n",
              "      <td>Why the Truth Might Get You Fired October 29, ...</td>\n",
              "      <td>1</td>\n",
              "    </tr>\n",
              "    <tr>\n",
              "      <th>3</th>\n",
              "      <td>3</td>\n",
              "      <td>15 Civilians Killed In Single US Airstrike Hav...</td>\n",
              "      <td>Jessica Purkiss</td>\n",
              "      <td>Videos 15 Civilians Killed In Single US Airstr...</td>\n",
              "      <td>1</td>\n",
              "    </tr>\n",
              "    <tr>\n",
              "      <th>4</th>\n",
              "      <td>4</td>\n",
              "      <td>Iranian woman jailed for fictional unpublished...</td>\n",
              "      <td>Howard Portnoy</td>\n",
              "      <td>Print \\nAn Iranian woman has been sentenced to...</td>\n",
              "      <td>1</td>\n",
              "    </tr>\n",
              "  </tbody>\n",
              "</table>\n",
              "</div>"
            ],
            "text/plain": [
              "   id                                              title              author  \\\n",
              "0   0  House Dem Aide: We Didn’t Even See Comey’s Let...       Darrell Lucus   \n",
              "1   1  FLYNN: Hillary Clinton, Big Woman on Campus - ...     Daniel J. Flynn   \n",
              "2   2                  Why the Truth Might Get You Fired  Consortiumnews.com   \n",
              "3   3  15 Civilians Killed In Single US Airstrike Hav...     Jessica Purkiss   \n",
              "4   4  Iranian woman jailed for fictional unpublished...      Howard Portnoy   \n",
              "\n",
              "                                                text  label  \n",
              "0  House Dem Aide: We Didn’t Even See Comey’s Let...      1  \n",
              "1  Ever get the feeling your life circles the rou...      0  \n",
              "2  Why the Truth Might Get You Fired October 29, ...      1  \n",
              "3  Videos 15 Civilians Killed In Single US Airstr...      1  \n",
              "4  Print \\nAn Iranian woman has been sentenced to...      1  "
            ]
          },
          "execution_count": 3,
          "metadata": {},
          "output_type": "execute_result"
        }
      ],
      "source": [
        "dataset.head()"
      ]
    },
    {
      "cell_type": "code",
      "execution_count": 4,
      "metadata": {
        "colab": {
          "base_uri": "https://localhost:8080/"
        },
        "id": "hqpmSso7IsY7",
        "outputId": "15608dd4-6582-402c-9c6e-b2f03b8d47da"
      },
      "outputs": [
        {
          "data": {
            "text/plain": [
              "(20800, 5)"
            ]
          },
          "execution_count": 4,
          "metadata": {},
          "output_type": "execute_result"
        }
      ],
      "source": [
        "dataset.shape"
      ]
    },
    {
      "cell_type": "code",
      "execution_count": 5,
      "metadata": {
        "colab": {
          "base_uri": "https://localhost:8080/"
        },
        "id": "q1pIxoz9M12R",
        "outputId": "dabcaa75-6236-4f0c-b954-04c5052d2569"
      },
      "outputs": [
        {
          "name": "stderr",
          "output_type": "stream",
          "text": [
            "[nltk_data] Downloading package punkt to\n",
            "[nltk_data]     C:\\Users\\b\\AppData\\Roaming\\nltk_data...\n",
            "[nltk_data]   Package punkt is already up-to-date!\n"
          ]
        },
        {
          "name": "stdout",
          "output_type": "stream",
          "text": [
            "          id                                              title  \\\n",
            "0          0  House Dem Aide: We Didn’t Even See Comey’s Let...   \n",
            "1          1  FLYNN: Hillary Clinton, Big Woman on Campus - ...   \n",
            "2          2                  Why the Truth Might Get You Fired   \n",
            "3          3  15 Civilians Killed In Single US Airstrike Hav...   \n",
            "4          4  Iranian woman jailed for fictional unpublished...   \n",
            "...      ...                                                ...   \n",
            "20795  20795  Rapper T.I.: Trump a ’Poster Child For White S...   \n",
            "20796  20796  N.F.L. Playoffs: Schedule, Matchups and Odds -...   \n",
            "20797  20797  Macy’s Is Said to Receive Takeover Approach by...   \n",
            "20798  20798  NATO, Russia To Hold Parallel Exercises In Bal...   \n",
            "20799  20799                          What Keeps the F-35 Alive   \n",
            "\n",
            "                                          author  \\\n",
            "0                                  Darrell Lucus   \n",
            "1                                Daniel J. Flynn   \n",
            "2                             Consortiumnews.com   \n",
            "3                                Jessica Purkiss   \n",
            "4                                 Howard Portnoy   \n",
            "...                                          ...   \n",
            "20795                              Jerome Hudson   \n",
            "20796                           Benjamin Hoffman   \n",
            "20797  Michael J. de la Merced and Rachel Abrams   \n",
            "20798                                Alex Ansary   \n",
            "20799                              David Swanson   \n",
            "\n",
            "                                                    text  label  \\\n",
            "0      House Dem Aide: We Didn’t Even See Comey’s Let...      1   \n",
            "1      Ever get the feeling your life circles the rou...      0   \n",
            "2      Why the Truth Might Get You Fired October 29, ...      1   \n",
            "3      Videos 15 Civilians Killed In Single US Airstr...      1   \n",
            "4      Print \\nAn Iranian woman has been sentenced to...      1   \n",
            "...                                                  ...    ...   \n",
            "20795  Rapper T. I. unloaded on black celebrities who...      0   \n",
            "20796  When the Green Bay Packers lost to the Washing...      0   \n",
            "20797  The Macy’s of today grew from the union of sev...      0   \n",
            "20798  NATO, Russia To Hold Parallel Exercises In Bal...      1   \n",
            "20799    David Swanson is an author, activist, journa...      1   \n",
            "\n",
            "                                            cleaned_text  \n",
            "0      house dem aide we didn t even see comey s lett...  \n",
            "1      ever get the feeling your life circles the rou...  \n",
            "2      why the truth might get you fired october the ...  \n",
            "3      videos civilians killed in single us airstrike...  \n",
            "4      print an iranian woman has been sentenced to s...  \n",
            "...                                                  ...  \n",
            "20795  rapper t i unloaded on black celebrities who m...  \n",
            "20796  when the green bay packers lost to the washing...  \n",
            "20797  the macy s of today grew from the union of sev...  \n",
            "20798  nato russia to hold parallel exercises in balk...  \n",
            "20799  david swanson is an author activist journalist...  \n",
            "\n",
            "[20800 rows x 6 columns]\n"
          ]
        }
      ],
      "source": [
        "# Step 1: Missing Value Handling (Optional - If needed)\n",
        "# To remove rows with missing values for specific columns, use the following:\n",
        "\n",
        "import nltk\n",
        "nltk.download('punkt')\n",
        "\n",
        "dataset.dropna(subset=['label'], inplace=True)\n",
        "\n",
        "# If you want to remove columns with missing values, use the following:\n",
        "# dataset.dropna(axis=1, inplace=True)\n",
        "\n",
        "# Step 2: Text Cleaning\n",
        "def clean_text(text):\n",
        "    # Check if the input is a string, if not, return an empty string\n",
        "    if not isinstance(text, str):\n",
        "        return ''\n",
        "\n",
        "    # Remove non-alphanumeric characters and extra whitespaces using regular expressions\n",
        "    text = re.sub(r'[^a-zA-Z]', ' ', text)\n",
        "    text = re.sub(r'\\s+', ' ', text)\n",
        "    return text\n",
        "\n",
        "# Apply the 'clean_text' function to the 'text' column and create a new 'cleaned_text' column\n",
        "dataset['cleaned_text'] = dataset['text'].apply(clean_text)\n",
        "\n",
        "# Step 3: Tokenization and Lowercasing\n",
        "def tokenize_and_lowercase(text):\n",
        "    # Tokenize the text into individual words or tokens\n",
        "    tokens = nltk.word_tokenize(text)\n",
        "\n",
        "    # Convert each token to lowercase for uniformity\n",
        "    tokens = [word.lower() for word in tokens]\n",
        "    return ' '.join(tokens)\n",
        "\n",
        "# Apply the 'tokenize_and_lowercase' function to the 'cleaned_text' column\n",
        "dataset['cleaned_text'] = dataset['cleaned_text'].apply(tokenize_and_lowercase)\n",
        "\n",
        "# Display the DataFrame with the required columns\n",
        "print(dataset[['id', 'title', 'author', 'text', 'label', 'cleaned_text']])\n"
      ]
    },
    {
      "cell_type": "code",
      "execution_count": 6,
      "metadata": {
        "colab": {
          "base_uri": "https://localhost:8080/",
          "height": 293
        },
        "id": "jKKLXsmwM5Mf",
        "outputId": "1da5243a-a50a-4021-f72f-6629e0d3b5ac"
      },
      "outputs": [
        {
          "data": {
            "text/html": [
              "<div>\n",
              "<style scoped>\n",
              "    .dataframe tbody tr th:only-of-type {\n",
              "        vertical-align: middle;\n",
              "    }\n",
              "\n",
              "    .dataframe tbody tr th {\n",
              "        vertical-align: top;\n",
              "    }\n",
              "\n",
              "    .dataframe thead th {\n",
              "        text-align: right;\n",
              "    }\n",
              "</style>\n",
              "<table border=\"1\" class=\"dataframe\">\n",
              "  <thead>\n",
              "    <tr style=\"text-align: right;\">\n",
              "      <th></th>\n",
              "      <th>id</th>\n",
              "      <th>title</th>\n",
              "      <th>author</th>\n",
              "      <th>text</th>\n",
              "      <th>label</th>\n",
              "      <th>cleaned_text</th>\n",
              "    </tr>\n",
              "  </thead>\n",
              "  <tbody>\n",
              "    <tr>\n",
              "      <th>0</th>\n",
              "      <td>0</td>\n",
              "      <td>House Dem Aide: We Didn’t Even See Comey’s Let...</td>\n",
              "      <td>Darrell Lucus</td>\n",
              "      <td>House Dem Aide: We Didn’t Even See Comey’s Let...</td>\n",
              "      <td>1</td>\n",
              "      <td>house dem aide we didn t even see comey s lett...</td>\n",
              "    </tr>\n",
              "    <tr>\n",
              "      <th>1</th>\n",
              "      <td>1</td>\n",
              "      <td>FLYNN: Hillary Clinton, Big Woman on Campus - ...</td>\n",
              "      <td>Daniel J. Flynn</td>\n",
              "      <td>Ever get the feeling your life circles the rou...</td>\n",
              "      <td>0</td>\n",
              "      <td>ever get the feeling your life circles the rou...</td>\n",
              "    </tr>\n",
              "    <tr>\n",
              "      <th>2</th>\n",
              "      <td>2</td>\n",
              "      <td>Why the Truth Might Get You Fired</td>\n",
              "      <td>Consortiumnews.com</td>\n",
              "      <td>Why the Truth Might Get You Fired October 29, ...</td>\n",
              "      <td>1</td>\n",
              "      <td>why the truth might get you fired october the ...</td>\n",
              "    </tr>\n",
              "  </tbody>\n",
              "</table>\n",
              "</div>"
            ],
            "text/plain": [
              "   id                                              title              author  \\\n",
              "0   0  House Dem Aide: We Didn’t Even See Comey’s Let...       Darrell Lucus   \n",
              "1   1  FLYNN: Hillary Clinton, Big Woman on Campus - ...     Daniel J. Flynn   \n",
              "2   2                  Why the Truth Might Get You Fired  Consortiumnews.com   \n",
              "\n",
              "                                                text  label  \\\n",
              "0  House Dem Aide: We Didn’t Even See Comey’s Let...      1   \n",
              "1  Ever get the feeling your life circles the rou...      0   \n",
              "2  Why the Truth Might Get You Fired October 29, ...      1   \n",
              "\n",
              "                                        cleaned_text  \n",
              "0  house dem aide we didn t even see comey s lett...  \n",
              "1  ever get the feeling your life circles the rou...  \n",
              "2  why the truth might get you fired october the ...  "
            ]
          },
          "execution_count": 6,
          "metadata": {},
          "output_type": "execute_result"
        }
      ],
      "source": [
        "dataset.head(3)"
      ]
    },
    {
      "cell_type": "code",
      "execution_count": 7,
      "metadata": {
        "colab": {
          "base_uri": "https://localhost:8080/",
          "height": 327
        },
        "id": "9-KXEI4bNYly",
        "outputId": "ce93178a-dd68-45f9-8c35-1667688d0bb7"
      },
      "outputs": [
        {
          "name": "stderr",
          "output_type": "stream",
          "text": [
            "[nltk_data] Downloading package stopwords to\n",
            "[nltk_data]     C:\\Users\\b\\AppData\\Roaming\\nltk_data...\n",
            "[nltk_data]   Package stopwords is already up-to-date!\n"
          ]
        },
        {
          "data": {
            "text/html": [
              "<div>\n",
              "<style scoped>\n",
              "    .dataframe tbody tr th:only-of-type {\n",
              "        vertical-align: middle;\n",
              "    }\n",
              "\n",
              "    .dataframe tbody tr th {\n",
              "        vertical-align: top;\n",
              "    }\n",
              "\n",
              "    .dataframe thead th {\n",
              "        text-align: right;\n",
              "    }\n",
              "</style>\n",
              "<table border=\"1\" class=\"dataframe\">\n",
              "  <thead>\n",
              "    <tr style=\"text-align: right;\">\n",
              "      <th></th>\n",
              "      <th>id</th>\n",
              "      <th>title</th>\n",
              "      <th>author</th>\n",
              "      <th>text</th>\n",
              "      <th>label</th>\n",
              "      <th>cleaned_text</th>\n",
              "    </tr>\n",
              "  </thead>\n",
              "  <tbody>\n",
              "    <tr>\n",
              "      <th>0</th>\n",
              "      <td>0</td>\n",
              "      <td>House Dem Aide: We Didn’t Even See Comey’s Let...</td>\n",
              "      <td>Darrell Lucus</td>\n",
              "      <td>House Dem Aide: We Didn’t Even See Comey’s Let...</td>\n",
              "      <td>1</td>\n",
              "      <td>hous dem aid even see comey letter jason chaff...</td>\n",
              "    </tr>\n",
              "    <tr>\n",
              "      <th>1</th>\n",
              "      <td>1</td>\n",
              "      <td>FLYNN: Hillary Clinton, Big Woman on Campus - ...</td>\n",
              "      <td>Daniel J. Flynn</td>\n",
              "      <td>Ever get the feeling your life circles the rou...</td>\n",
              "      <td>0</td>\n",
              "      <td>ever get feel life circl roundabout rather hea...</td>\n",
              "    </tr>\n",
              "    <tr>\n",
              "      <th>2</th>\n",
              "      <td>2</td>\n",
              "      <td>Why the Truth Might Get You Fired</td>\n",
              "      <td>Consortiumnews.com</td>\n",
              "      <td>Why the Truth Might Get You Fired October 29, ...</td>\n",
              "      <td>1</td>\n",
              "      <td>truth might get fire octob tension intellig an...</td>\n",
              "    </tr>\n",
              "    <tr>\n",
              "      <th>3</th>\n",
              "      <td>3</td>\n",
              "      <td>15 Civilians Killed In Single US Airstrike Hav...</td>\n",
              "      <td>Jessica Purkiss</td>\n",
              "      <td>Videos 15 Civilians Killed In Single US Airstr...</td>\n",
              "      <td>1</td>\n",
              "      <td>video civilian kill singl us airstrik identifi...</td>\n",
              "    </tr>\n",
              "    <tr>\n",
              "      <th>4</th>\n",
              "      <td>4</td>\n",
              "      <td>Iranian woman jailed for fictional unpublished...</td>\n",
              "      <td>Howard Portnoy</td>\n",
              "      <td>Print \\nAn Iranian woman has been sentenced to...</td>\n",
              "      <td>1</td>\n",
              "      <td>print iranian woman sentenc six year prison ir...</td>\n",
              "    </tr>\n",
              "  </tbody>\n",
              "</table>\n",
              "</div>"
            ],
            "text/plain": [
              "   id                                              title              author  \\\n",
              "0   0  House Dem Aide: We Didn’t Even See Comey’s Let...       Darrell Lucus   \n",
              "1   1  FLYNN: Hillary Clinton, Big Woman on Campus - ...     Daniel J. Flynn   \n",
              "2   2                  Why the Truth Might Get You Fired  Consortiumnews.com   \n",
              "3   3  15 Civilians Killed In Single US Airstrike Hav...     Jessica Purkiss   \n",
              "4   4  Iranian woman jailed for fictional unpublished...      Howard Portnoy   \n",
              "\n",
              "                                                text  label  \\\n",
              "0  House Dem Aide: We Didn’t Even See Comey’s Let...      1   \n",
              "1  Ever get the feeling your life circles the rou...      0   \n",
              "2  Why the Truth Might Get You Fired October 29, ...      1   \n",
              "3  Videos 15 Civilians Killed In Single US Airstr...      1   \n",
              "4  Print \\nAn Iranian woman has been sentenced to...      1   \n",
              "\n",
              "                                        cleaned_text  \n",
              "0  hous dem aid even see comey letter jason chaff...  \n",
              "1  ever get feel life circl roundabout rather hea...  \n",
              "2  truth might get fire octob tension intellig an...  \n",
              "3  video civilian kill singl us airstrik identifi...  \n",
              "4  print iranian woman sentenc six year prison ir...  "
            ]
          },
          "execution_count": 7,
          "metadata": {},
          "output_type": "execute_result"
        }
      ],
      "source": [
        "# Step 4: Stopword Removal\n",
        "nltk.download('stopwords')\n",
        "stop_words = set(stopwords.words('english'))\n",
        "\n",
        "def remove_stopwords(text):\n",
        "    # Tokenize the text\n",
        "    tokens = nltk.word_tokenize(text)\n",
        "\n",
        "    # Remove common stopwords from the tokens\n",
        "    tokens = [word for word in tokens if word not in stop_words]\n",
        "    return ' '.join(tokens)\n",
        "\n",
        "# Apply the 'remove_stopwords' function to the 'cleaned_text' column\n",
        "dataset['cleaned_text'] = dataset['cleaned_text'].apply(remove_stopwords)\n",
        "\n",
        "# Step 5: Stemming (You can also use Lemmatization if preferred)\n",
        "stemmer = PorterStemmer()\n",
        "\n",
        "def stem_text(text):\n",
        "    # Tokenize the text\n",
        "    tokens = nltk.word_tokenize(text)\n",
        "\n",
        "    # Apply stemming to reduce words to their base or root form\n",
        "    tokens = [stemmer.stem(word) for word in tokens]\n",
        "    return ' '.join(tokens)\n",
        "\n",
        "# Apply the 'stem_text' function to the 'cleaned_text' column\n",
        "dataset['cleaned_text'] = dataset['cleaned_text'].apply(stem_text)\n",
        "dataset.head()"
      ]
    },
    {
      "cell_type": "code",
      "execution_count": 9,
      "metadata": {
        "colab": {
          "base_uri": "https://localhost:8080/"
        },
        "id": "31Qe7obVNsBF",
        "outputId": "6c91ca18-f698-4944-9d0e-0c59f73ed5b6"
      },
      "outputs": [
        {
          "data": {
            "text/html": [
              "<div>\n",
              "<style scoped>\n",
              "    .dataframe tbody tr th:only-of-type {\n",
              "        vertical-align: middle;\n",
              "    }\n",
              "\n",
              "    .dataframe tbody tr th {\n",
              "        vertical-align: top;\n",
              "    }\n",
              "\n",
              "    .dataframe thead th {\n",
              "        text-align: right;\n",
              "    }\n",
              "</style>\n",
              "<table border=\"1\" class=\"dataframe\">\n",
              "  <thead>\n",
              "    <tr style=\"text-align: right;\">\n",
              "      <th></th>\n",
              "      <th>id</th>\n",
              "      <th>title</th>\n",
              "      <th>author</th>\n",
              "      <th>text</th>\n",
              "      <th>label</th>\n",
              "      <th>cleaned_text</th>\n",
              "    </tr>\n",
              "  </thead>\n",
              "  <tbody>\n",
              "    <tr>\n",
              "      <th>0</th>\n",
              "      <td>0</td>\n",
              "      <td>House Dem Aide: We Didn’t Even See Comey’s Let...</td>\n",
              "      <td>Darrell Lucus</td>\n",
              "      <td>House Dem Aide: We Didn’t Even See Comey’s Let...</td>\n",
              "      <td>1</td>\n",
              "      <td>hous dem aid even see comey letter jason chaff...</td>\n",
              "    </tr>\n",
              "    <tr>\n",
              "      <th>1</th>\n",
              "      <td>1</td>\n",
              "      <td>FLYNN: Hillary Clinton, Big Woman on Campus - ...</td>\n",
              "      <td>Daniel J. Flynn</td>\n",
              "      <td>Ever get the feeling your life circles the rou...</td>\n",
              "      <td>0</td>\n",
              "      <td>ever get feel life circl roundabout rather hea...</td>\n",
              "    </tr>\n",
              "    <tr>\n",
              "      <th>2</th>\n",
              "      <td>2</td>\n",
              "      <td>Why the Truth Might Get You Fired</td>\n",
              "      <td>Consortiumnews.com</td>\n",
              "      <td>Why the Truth Might Get You Fired October 29, ...</td>\n",
              "      <td>1</td>\n",
              "      <td>truth might get fire octob tension intellig an...</td>\n",
              "    </tr>\n",
              "  </tbody>\n",
              "</table>\n",
              "</div>"
            ],
            "text/plain": [
              "   id                                              title              author  \\\n",
              "0   0  House Dem Aide: We Didn’t Even See Comey’s Let...       Darrell Lucus   \n",
              "1   1  FLYNN: Hillary Clinton, Big Woman on Campus - ...     Daniel J. Flynn   \n",
              "2   2                  Why the Truth Might Get You Fired  Consortiumnews.com   \n",
              "\n",
              "                                                text  label  \\\n",
              "0  House Dem Aide: We Didn’t Even See Comey’s Let...      1   \n",
              "1  Ever get the feeling your life circles the rou...      0   \n",
              "2  Why the Truth Might Get You Fired October 29, ...      1   \n",
              "\n",
              "                                        cleaned_text  \n",
              "0  hous dem aid even see comey letter jason chaff...  \n",
              "1  ever get feel life circl roundabout rather hea...  \n",
              "2  truth might get fire octob tension intellig an...  "
            ]
          },
          "execution_count": 9,
          "metadata": {},
          "output_type": "execute_result"
        }
      ],
      "source": [
        "# Step 6: TF-IDF Vectorization\n",
        "vectorizer = TfidfVectorizer()\n",
        "\n",
        "# Use TF-IDF vectorization to convert text data into numerical form\n",
        "X = vectorizer.fit_transform(dataset['cleaned_text'])\n",
        "\n",
        "# Step 7: Splitting the Data\n",
        "# Split the dataset into training and testing subsets\n",
        "X_train, X_test, Y_train, Y_test = train_test_split(X, dataset['label'], test_size=0.2, random_state=42)\n",
        "\n",
        "# Display the first few rows of the preprocessed data\n",
        "dataset.head(3)\n",
        "\n",
        "# Now, you have preprocessed data ready for model training and evaluation."
      ]
    },
    {
      "cell_type": "code",
      "execution_count": 10,
      "metadata": {
        "colab": {
          "base_uri": "https://localhost:8080/",
          "height": 300
        },
        "id": "FIKadsrwPa9U",
        "outputId": "f0ecd895-be93-408c-fe78-cb5400a4f92e"
      },
      "outputs": [
        {
          "data": {
            "text/html": [
              "<div>\n",
              "<style scoped>\n",
              "    .dataframe tbody tr th:only-of-type {\n",
              "        vertical-align: middle;\n",
              "    }\n",
              "\n",
              "    .dataframe tbody tr th {\n",
              "        vertical-align: top;\n",
              "    }\n",
              "\n",
              "    .dataframe thead th {\n",
              "        text-align: right;\n",
              "    }\n",
              "</style>\n",
              "<table border=\"1\" class=\"dataframe\">\n",
              "  <thead>\n",
              "    <tr style=\"text-align: right;\">\n",
              "      <th></th>\n",
              "      <th>id</th>\n",
              "      <th>label</th>\n",
              "    </tr>\n",
              "  </thead>\n",
              "  <tbody>\n",
              "    <tr>\n",
              "      <th>count</th>\n",
              "      <td>20800.000000</td>\n",
              "      <td>20800.000000</td>\n",
              "    </tr>\n",
              "    <tr>\n",
              "      <th>mean</th>\n",
              "      <td>10399.500000</td>\n",
              "      <td>0.500625</td>\n",
              "    </tr>\n",
              "    <tr>\n",
              "      <th>std</th>\n",
              "      <td>6004.587135</td>\n",
              "      <td>0.500012</td>\n",
              "    </tr>\n",
              "    <tr>\n",
              "      <th>min</th>\n",
              "      <td>0.000000</td>\n",
              "      <td>0.000000</td>\n",
              "    </tr>\n",
              "    <tr>\n",
              "      <th>25%</th>\n",
              "      <td>5199.750000</td>\n",
              "      <td>0.000000</td>\n",
              "    </tr>\n",
              "    <tr>\n",
              "      <th>50%</th>\n",
              "      <td>10399.500000</td>\n",
              "      <td>1.000000</td>\n",
              "    </tr>\n",
              "    <tr>\n",
              "      <th>75%</th>\n",
              "      <td>15599.250000</td>\n",
              "      <td>1.000000</td>\n",
              "    </tr>\n",
              "    <tr>\n",
              "      <th>max</th>\n",
              "      <td>20799.000000</td>\n",
              "      <td>1.000000</td>\n",
              "    </tr>\n",
              "  </tbody>\n",
              "</table>\n",
              "</div>"
            ],
            "text/plain": [
              "                 id         label\n",
              "count  20800.000000  20800.000000\n",
              "mean   10399.500000      0.500625\n",
              "std     6004.587135      0.500012\n",
              "min        0.000000      0.000000\n",
              "25%     5199.750000      0.000000\n",
              "50%    10399.500000      1.000000\n",
              "75%    15599.250000      1.000000\n",
              "max    20799.000000      1.000000"
            ]
          },
          "execution_count": 10,
          "metadata": {},
          "output_type": "execute_result"
        }
      ],
      "source": [
        "dataset.describe()"
      ]
    },
    {
      "cell_type": "code",
      "execution_count": 11,
      "metadata": {
        "colab": {
          "base_uri": "https://localhost:8080/"
        },
        "id": "cHoW-oDLPkU4",
        "outputId": "6295363d-f8ef-43e1-ab3c-c7946d4b4f02"
      },
      "outputs": [
        {
          "name": "stdout",
          "output_type": "stream",
          "text": [
            "Logistic Regression Accuracy: 0.94\n",
            "Classification Report for Logistic Regression:\n",
            "               precision    recall  f1-score   support\n",
            "\n",
            "           0       0.95      0.94      0.94      2132\n",
            "           1       0.94      0.95      0.94      2028\n",
            "\n",
            "    accuracy                           0.94      4160\n",
            "   macro avg       0.94      0.94      0.94      4160\n",
            "weighted avg       0.94      0.94      0.94      4160\n",
            "\n",
            "Confusion Matrix for Logistic Regression:\n",
            " [[2000  132]\n",
            " [ 101 1927]]\n",
            "\n",
            "Multinomial Naive Bayes Accuracy: 0.88\n",
            "Classification Report for Multinomial Naive Bayes:\n",
            "               precision    recall  f1-score   support\n",
            "\n",
            "           0       0.81      0.98      0.89      2132\n",
            "           1       0.98      0.76      0.86      2028\n",
            "\n",
            "    accuracy                           0.88      4160\n",
            "   macro avg       0.89      0.87      0.87      4160\n",
            "weighted avg       0.89      0.88      0.87      4160\n",
            "\n",
            "Confusion Matrix for Multinomial Naive Bayes:\n",
            " [[2093   39]\n",
            " [ 477 1551]]\n",
            "\n",
            "Passive Aggressive Classifier Accuracy: 0.95\n",
            "Classification Report for Passive Aggressive Classifier:\n",
            "               precision    recall  f1-score   support\n",
            "\n",
            "           0       0.96      0.95      0.95      2132\n",
            "           1       0.95      0.95      0.95      2028\n",
            "\n",
            "    accuracy                           0.95      4160\n",
            "   macro avg       0.95      0.95      0.95      4160\n",
            "weighted avg       0.95      0.95      0.95      4160\n",
            "\n",
            "Confusion Matrix for Passive Aggressive Classifier:\n",
            " [[2028  104]\n",
            " [  92 1936]]\n",
            "\n"
          ]
        }
      ],
      "source": [
        "from sklearn.metrics import accuracy_score, classification_report, confusion_matrix\n",
        "\n",
        "# Model 1: Logistic Regression\n",
        "logistic_regression = LogisticRegression(max_iter=1000, random_state=42)\n",
        "logistic_regression.fit(X_train, Y_train)\n",
        "Y_pred_lr = logistic_regression.predict(X_test)\n",
        "\n",
        "# Model 2: Multinomial Naive Bayes\n",
        "naive_bayes = MultinomialNB()\n",
        "naive_bayes.fit(X_train, Y_train)\n",
        "Y_pred_nb = naive_bayes.predict(X_test)\n",
        "\n",
        "# Model 3: Passive Aggressive Classifier\n",
        "passive_aggressive = PassiveAggressiveClassifier(max_iter=1000, random_state=42)\n",
        "passive_aggressive.fit(X_train, Y_train)\n",
        "Y_pred_pa = passive_aggressive.predict(X_test)\n",
        "\n",
        "# Evaluate the models\n",
        "def evaluate_model(model_name, Y_true, Y_pred):\n",
        "    accuracy = accuracy_score(Y_true, Y_pred)\n",
        "    print(f'{model_name} Accuracy: {accuracy:.2f}')\n",
        "    print(f'Classification Report for {model_name}:\\n', classification_report(Y_true, Y_pred))\n",
        "    print(f'Confusion Matrix for {model_name}:\\n', confusion_matrix(Y_true, Y_pred))\n",
        "\n",
        "# Evaluate Logistic Regression\n",
        "evaluate_model('Logistic Regression', Y_test, Y_pred_lr)\n",
        "print()\n",
        "\n",
        "# Evaluate Multinomial Naive Bayes\n",
        "evaluate_model('Multinomial Naive Bayes', Y_test, Y_pred_nb)\n",
        "print()\n",
        "\n",
        "# Evaluate Passive Aggressive Classifier\n",
        "evaluate_model('Passive Aggressive Classifier', Y_test, Y_pred_pa)\n",
        "print()"
      ]
    },
    {
      "cell_type": "code",
      "execution_count": 12,
      "metadata": {
        "colab": {
          "base_uri": "https://localhost:8080/"
        },
        "id": "swgsh2uNPn1m",
        "outputId": "231d9f0d-a1aa-4864-9818-96f42b85ba2f"
      },
      "outputs": [
        {
          "name": "stdout",
          "output_type": "stream",
          "text": [
            "Random Forest Accuracy: 0.92\n",
            "Classification Report for Random Forest:\n",
            "               precision    recall  f1-score   support\n",
            "\n",
            "           0       0.91      0.94      0.92      2132\n",
            "           1       0.93      0.90      0.92      2028\n",
            "\n",
            "    accuracy                           0.92      4160\n",
            "   macro avg       0.92      0.92      0.92      4160\n",
            "weighted avg       0.92      0.92      0.92      4160\n",
            "\n",
            "Confusion Matrix for Random Forest:\n",
            " [[2005  127]\n",
            " [ 203 1825]]\n"
          ]
        }
      ],
      "source": [
        "from sklearn.ensemble import RandomForestClassifier\n",
        "\n",
        "# Create a Random Forest classifier\n",
        "random_forest = RandomForestClassifier(n_estimators=100, random_state=42)\n",
        "\n",
        "# Train the Random Forest model\n",
        "random_forest.fit(X_train, Y_train)\n",
        "\n",
        "# Make predictions\n",
        "Y_pred_rf = random_forest.predict(X_test)\n",
        "\n",
        "# Evaluate the Random Forest model\n",
        "evaluate_model('Random Forest', Y_test, Y_pred_rf)"
      ]
    },
    {
      "cell_type": "code",
      "execution_count": 3,
      "metadata": {
        "colab": {
          "base_uri": "https://localhost:8080/"
        },
        "id": "6jbzKM07PtkR",
        "outputId": "b33339c8-e1d4-46cd-937f-87bef0bcf2d0"
      },
      "outputs": [
        {
          "ename": "ModuleNotFoundError",
          "evalue": "No module named 'xgboost'",
          "output_type": "error",
          "traceback": [
            "\u001b[1;31m---------------------------------------------------------------------------\u001b[0m",
            "\u001b[1;31mModuleNotFoundError\u001b[0m                       Traceback (most recent call last)",
            "Cell \u001b[1;32mIn[3], line 1\u001b[0m\n\u001b[1;32m----> 1\u001b[0m \u001b[38;5;28;01mimport\u001b[39;00m \u001b[38;5;21;01mxgboost\u001b[39;00m \u001b[38;5;28;01mas\u001b[39;00m \u001b[38;5;21;01mxgb\u001b[39;00m\n\u001b[0;32m      3\u001b[0m \u001b[38;5;66;03m# Create an XGBoost classifier\u001b[39;00m\n\u001b[0;32m      4\u001b[0m xgboost_classifier \u001b[38;5;241m=\u001b[39m xgb\u001b[38;5;241m.\u001b[39mXGBClassifier(random_state\u001b[38;5;241m=\u001b[39m\u001b[38;5;241m42\u001b[39m)\n",
            "\u001b[1;31mModuleNotFoundError\u001b[0m: No module named 'xgboost'"
          ]
        }
      ],
      "source": [
        "import xgboost as xgb\n",
        "\n",
        "# Create an XGBoost classifier\n",
        "xgboost_classifier = xgb.XGBClassifier(random_state=42)\n",
        "\n",
        "# Train the XGBoost model\n",
        "xgboost_classifier.fit(X_train, Y_train)\n",
        "\n",
        "# Make predictions\n",
        "Y_pred_xgb = xgboost_classifier.predict(X_test)\n",
        "\n",
        "# Evaluate the XGBoost model\n",
        "evaluate_model('XGBoost', Y_test, Y_pred_xgb)"
      ]
    },
    {
      "cell_type": "code",
      "execution_count": 38,
      "metadata": {
        "colab": {
          "base_uri": "https://localhost:8080/",
          "height": 607
        },
        "id": "L9XxCp1PQTNa",
        "outputId": "cd48ee90-03d3-4df0-ed5e-839b21c32143"
      },
      "outputs": [
        {
          "data": {
            "image/png": "[encoded data removed]",
            "text/plain": [
              "<Figure size 1000x600 with 1 Axes>"
            ]
          },
          "metadata": {},
          "output_type": "display_data"
        }
      ],
      "source": [
        "import matplotlib.pyplot as plt\n",
        "\n",
        "# Define the model names and their corresponding accuracy and F1 scores\n",
        "model_names = [\"Logistic Regression\", \"Multinomial Naive Bayes\", \"Passive Aggressive Classifier\", \"Random Forest\", \"XGBoost\"]\n",
        "accuracies = [0.94, 0.88, 0.95, 0.92, 0.96]\n",
        "f1_scores = [0.94, 0.87, 0.95, 0.92, 0.96]\n",
        "\n",
        "# Create a bar chart\n",
        "plt.figure(figsize=(10, 6))\n",
        "plt.bar(model_names, accuracies, label=\"Accuracy\", width=0.4, align='center', alpha=0.7, color='b')\n",
        "plt.bar(model_names, f1_scores, label=\"F1-Score\", width=0.4, align='edge', alpha=0.7, color='g')\n",
        "\n",
        "# Add labels and legend\n",
        "plt.xlabel(\"Models\")\n",
        "plt.ylabel(\"Score\")\n",
        "plt.title(\"Model Comparison: Accuracy and F1-Score\")\n",
        "plt.legend(loc=\"upper left\")\n",
        "\n",
        "# Display the bar chart\n",
        "plt.xticks(rotation=45)  # Rotate x-axis labels for readability\n",
        "plt.tight_layout()\n",
        "plt.show()"
      ]
    },
    {
      "cell_type": "code",
      "execution_count": 39,
      "metadata": {
        "colab": {
          "base_uri": "https://localhost:8080/"
        },
        "id": "qRWUJQgwQ6Sj",
        "outputId": "2996ac05-8f27-49a1-afbc-c55cf04f99ab"
      },
      "outputs": [
        {
          "name": "stdout",
          "output_type": "stream",
          "text": [
            "Mean Accuracy: 0.95\n",
            "Standard Deviation: 0.00\n"
          ]
        }
      ],
      "source": [
        "from sklearn.model_selection import cross_val_score, StratifiedKFold\n",
        "\n",
        "# Define your XGBoost classifier\n",
        "xgboost_classifier = xgb.XGBClassifier(random_state=42)\n",
        "\n",
        "# Define the number of folds (k) for cross-validation\n",
        "k = 5  # You can choose any suitable number of folds\n",
        "\n",
        "# Create a cross-validation object (StratifiedKFold is commonly used)\n",
        "cv = StratifiedKFold(n_splits=k, shuffle=True, random_state=42)\n",
        "\n",
        "# Perform k-fold cross-validation and calculate accuracy scores\n",
        "scores = cross_val_score(xgboost_classifier, X_train, Y_train, cv=cv, scoring='accuracy')\n",
        "\n",
        "# Calculate the mean and standard deviation of the cross-validation scores\n",
        "mean_score = scores.mean()\n",
        "std_score = scores.std()\n",
        "\n",
        "# Print the results\n",
        "print(f'Mean Accuracy: {mean_score:.2f}')\n",
        "print(f'Standard Deviation: {std_score:.2f}')"
      ]
    },
    {
      "cell_type": "code",
      "execution_count": null,
      "metadata": {
        "id": "u8hJgEeLQ-Bh"
      },
      "outputs": [],
      "source": [
        "from sklearn.model_selection import RandomizedSearchCV\n",
        "\n",
        "# Define the hyperparameter distributions\n",
        "param_dist = {\n",
        "    'learning_rate': [0.01, 0.1, 0.2],\n",
        "    'max_depth': range(3, 11),\n",
        "    'n_estimators': [100, 200, 300, 400, 500],\n",
        "    # Add other hyperparameters to tune here\n",
        "}\n",
        "\n",
        "# Create an XGBoost classifier\n",
        "xgboost_classifier = xgb.XGBClassifier(random_state=42)\n",
        "\n",
        "# Perform random search with cross-validation\n",
        "random_search = RandomizedSearchCV(estimator=xgboost_classifier, param_distributions=param_dist, n_iter=100, cv=5, scoring='accuracy', n_jobs=-1, random_state=42)\n",
        "random_search.fit(X_train, Y_train)\n",
        "\n",
        "# Get the best hyperparameters\n",
        "best_params = random_search.best_params_\n",
        "best_score = random_search.best_score_\n",
        "\n",
        "# Train the final model with the best hyperparameters\n",
        "final_xgboost_model = xgb.XGBClassifier(**best_params, random_state=42)\n",
        "final_xgboost_model.fit(X_train, Y_train)"
      ]
    },
    {
      "cell_type": "code",
      "execution_count": null,
      "metadata": {
        "id": "-ykBtxtS7ZZD"
      },
      "outputs": [],
      "source": []
    },
    {
      "cell_type": "code",
      "execution_count": null,
      "metadata": {
        "id": "6vjg2QxkTPQ9"
      },
      "outputs": [],
      "source": []
    }
  ],
  "metadata": {
    "accelerator": "GPU",
    "colab": {
      "gpuType": "T4",
      "provenance": []
    },
    "kernelspec": {
      "display_name": "Python 3",
      "name": "python3"
    },
    "language_info": {
      "codemirror_mode": {
        "name": "ipython",
        "version": 3
      },
      "file_extension": ".py",
      "mimetype": "text/x-python",
      "name": "python",
      "nbconvert_exporter": "python",
      "pygments_lexer": "ipython3",
      "version": "3.10.13"
    }
  },
  "nbformat": 4,
  "nbformat_minor": 0
}
